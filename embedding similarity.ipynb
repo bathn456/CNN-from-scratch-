{
  "nbformat": 4,
  "nbformat_minor": 0,
  "metadata": {
    "colab": {
      "provenance": [],
      "authorship_tag": "ABX9TyMvqEzTJi7YHHyEglzc7Ps8",
      "include_colab_link": true
    },
    "kernelspec": {
      "name": "python3",
      "display_name": "Python 3"
    },
    "language_info": {
      "name": "python"
    }
  },
  "cells": [
    {
      "cell_type": "markdown",
      "metadata": {
        "id": "view-in-github",
        "colab_type": "text"
      },
      "source": [
        "<a href=\"https://colab.research.google.com/github/bathn456/CNN-from-scratch-/blob/main/embedding%20similarity.ipynb\" target=\"_parent\"><img src=\"https://colab.research.google.com/assets/colab-badge.svg\" alt=\"Open In Colab\"/></a>"
      ]
    },
    {
      "cell_type": "code",
      "execution_count": 5,
      "metadata": {
        "colab": {
          "base_uri": "https://localhost:8080/"
        },
        "id": "Pqi9tb-oOS5y",
        "outputId": "6ec3ef80-300a-4404-f4c2-92a642a9c7b2"
      },
      "outputs": [
        {
          "output_type": "stream",
          "name": "stdout",
          "text": [
            "Kelime Embeddingleri:\n",
            "kedi: [-0.11364169 -0.31534499  0.10936416  0.18570577]\n",
            "sütü: [-0.64891085 -0.15605159  0.15268211 -0.29548442]\n",
            "ısırdı: [ 0.21155998  0.22640091  0.14554731 -0.09380878]\n",
            "beni: [-0.11015259  0.51121422  0.1100561  -0.03949244]\n",
            "içti: [ 0.2849997  -0.53023466  0.69250148 -0.59967906]\n",
            "\n",
            "Seçilen kelimeler: kedi, sütü\n",
            "Tahmin edilen embedding: [-0.38127627 -0.23569829  0.13102313 -0.05488933]\n",
            "Benzerlik (Tahmin vs ısırdı): -0.6579\n",
            "Benzerlik (Tahmin vs beni): -0.2457\n",
            "Benzerlik (Tahmin vs içti): 0.2715\n",
            "\n",
            "Tahmin edilen 3. kelime: içti\n"
          ]
        }
      ],
      "source": [
        "import numpy as np\n",
        "\n",
        "# Kelimeler ve embedding boyutu\n",
        "words = [\"kedi\", \"sütü\", \"ısırdı\", \"beni\", \"içti\"]\n",
        "dim = 4\n",
        "\n",
        "# Her kelimeye rastgele embedding ata\n",
        "embedding_dict = {word: np.random.uniform(-1, 1, dim) for word in words}\n",
        "\n",
        "def cosine_similarity(a, b, w1=None, w2=None):\n",
        "    dot_product = np.dot(a, b)\n",
        "    norm_a = np.linalg.norm(a)\n",
        "    norm_b = np.linalg.norm(b)\n",
        "    similarity = dot_product / (norm_a * norm_b)\n",
        "    if w1 and w2:\n",
        "        print(f\"Benzerlik ({w1} vs {w2}): {similarity:.4f}\")\n",
        "    return similarity\n",
        "\n",
        "def find_closest_word(vec, embeddings):\n",
        "    max_sim = -1\n",
        "    closest_word = None\n",
        "    for word, emb in embeddings.items():\n",
        "        sim = cosine_similarity(vec, emb, \"Tahmin\", word)\n",
        "        if sim > max_sim:\n",
        "            max_sim = sim\n",
        "            closest_word = word\n",
        "    return closest_word\n",
        "\n",
        "# Kullanıcıdan 2 kelime al (örnek olarak ekrandan seçilmiş kabul edelim)\n",
        "input_words = [\"kedi\", \"sütü\"]\n",
        "\n",
        "print(\"Kelime Embeddingleri:\")\n",
        "for w, emb in embedding_dict.items():\n",
        "    print(f\"{w}: {emb}\")\n",
        "\n",
        "# İki kelimenin embedding'inin ortalamasını alarak 3. kelimenin embedding tahmini\n",
        "predicted_embedding = (embedding_dict[input_words[0]] + embedding_dict[input_words[1]]) / 2\n",
        "\n",
        "print(f\"\\nSeçilen kelimeler: {input_words[0]}, {input_words[1]}\")\n",
        "print(f\"Tahmin edilen embedding: {predicted_embedding}\")\n",
        "\n",
        "# En yakın kelimeyi bul (ama input kelimeleri hariç tutalım)\n",
        "candidate_embeddings = {w: e for w, e in embedding_dict.items() if w not in input_words}\n",
        "predicted_word = find_closest_word(predicted_embedding, candidate_embeddings)\n",
        "\n",
        "print(f\"\\nTahmin edilen 3. kelime: {predicted_word}\")\n"
      ]
    }
  ]
}